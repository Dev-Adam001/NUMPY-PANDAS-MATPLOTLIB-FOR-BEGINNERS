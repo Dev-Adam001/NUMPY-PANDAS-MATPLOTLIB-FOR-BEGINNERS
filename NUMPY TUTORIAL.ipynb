{
 "cells": [
  {
   "cell_type": "code",
   "execution_count": 1,
   "id": "efda8470",
   "metadata": {},
   "outputs": [],
   "source": [
    "import numpy as np\n",
    "import os\n",
    "import shutil as s"
   ]
  },
  {
   "cell_type": "code",
   "execution_count": 184,
   "id": "f6d41b7c",
   "metadata": {},
   "outputs": [
    {
     "data": {
      "text/plain": [
       "array([[1, 2],\n",
       "       [3, 4],\n",
       "       [5, 6]])"
      ]
     },
     "execution_count": 184,
     "metadata": {},
     "output_type": "execute_result"
    }
   ],
   "source": [
    "a = np.array([[1,2], [3,4], [5,6]])\n",
    "a"
   ]
  },
  {
   "cell_type": "code",
   "execution_count": 185,
   "id": "be349053",
   "metadata": {},
   "outputs": [
    {
     "data": {
      "text/plain": [
       "(3, 2)"
      ]
     },
     "execution_count": 185,
     "metadata": {},
     "output_type": "execute_result"
    }
   ],
   "source": [
    "a.ndim #Check the number of a dimension in an array\n",
    "\n",
    "a.shape  #check the shape of an array i.e the number of rows and column in an array"
   ]
  },
  {
   "cell_type": "code",
   "execution_count": 12,
   "id": "0df90160",
   "metadata": {},
   "outputs": [
    {
     "data": {
      "text/plain": [
       "array([[1., 2.],\n",
       "       [3., 4.],\n",
       "       [5., 6.]])"
      ]
     },
     "execution_count": 12,
     "metadata": {},
     "output_type": "execute_result"
    }
   ],
   "source": [
    "a = np.array([[1,2], [3,4], [5,6]], dtype=np.float64) #converting from int32 datatype to float64 datatype\n",
    "a"
   ]
  },
  {
   "cell_type": "code",
   "execution_count": 189,
   "id": "ca30e228",
   "metadata": {},
   "outputs": [
    {
     "data": {
      "text/plain": [
       "array([[1, 2],\n",
       "       [3, 4],\n",
       "       [5, 6],\n",
       "       [7, 8]], dtype=int64)"
      ]
     },
     "execution_count": 189,
     "metadata": {},
     "output_type": "execute_result"
    }
   ],
   "source": [
    "b = np.array([[1., 2.],[3., 4.],[5., 6.], [7,8]], dtype = np.int64) #converting from float64 to int64 datatype\n",
    "b"
   ]
  },
  {
   "cell_type": "code",
   "execution_count": 191,
   "id": "f19d4b89",
   "metadata": {},
   "outputs": [
    {
     "data": {
      "text/plain": [
       "dtype('int64')"
      ]
     },
     "execution_count": 191,
     "metadata": {},
     "output_type": "execute_result"
    }
   ],
   "source": [
    "b.itemsize #shows the size of the dtype\n",
    "b.dtype  #show dataypes"
   ]
  },
  {
   "cell_type": "code",
   "execution_count": 18,
   "id": "4f4d6254",
   "metadata": {},
   "outputs": [
    {
     "data": {
      "text/plain": [
       "array([[1., 1., 1., 1.],\n",
       "       [1., 1., 1., 1.],\n",
       "       [1., 1., 1., 1.]])"
      ]
     },
     "execution_count": 18,
     "metadata": {},
     "output_type": "execute_result"
    }
   ],
   "source": [
    "c = np.zeros([3,4])\n",
    "c\n",
    "\n",
    "d = np.ones([3,4])\n",
    "d"
   ]
  },
  {
   "cell_type": "code",
   "execution_count": null,
   "id": "22702941",
   "metadata": {},
   "outputs": [],
   "source": [
    " #itemsize for integer is 4 while for float datatypes it is 8 -  by convention"
   ]
  },
  {
   "cell_type": "code",
   "execution_count": 193,
   "id": "d3db8bcf",
   "metadata": {},
   "outputs": [
    {
     "data": {
      "text/plain": [
       "range(0, 5)"
      ]
     },
     "execution_count": 193,
     "metadata": {},
     "output_type": "execute_result"
    }
   ],
   "source": [
    "e = range(5)\n",
    "e\n",
    "\n"
   ]
  },
  {
   "cell_type": "code",
   "execution_count": 192,
   "id": "f9583896",
   "metadata": {},
   "outputs": [
    {
     "data": {
      "text/plain": [
       "array([0, 1, 2, 3, 4])"
      ]
     },
     "execution_count": 192,
     "metadata": {},
     "output_type": "execute_result"
    }
   ],
   "source": [
    "e = np.arange(5)\n",
    "e"
   ]
  },
  {
   "cell_type": "code",
   "execution_count": 24,
   "id": "12f65199",
   "metadata": {},
   "outputs": [
    {
     "name": "stdout",
     "output_type": "stream",
     "text": [
      "concatenate example:\n",
      "['Hello, How are you?' \"Hi, What's up\"]\n"
     ]
    }
   ],
   "source": [
    "print(\"concatenate example:\")\n",
    "print(np.char.add(['Hello,', 'Hi,'], [' How are you?', \" What's up\"]))"
   ]
  },
  {
   "cell_type": "code",
   "execution_count": 25,
   "id": "34e5cf25",
   "metadata": {},
   "outputs": [
    {
     "name": "stdout",
     "output_type": "stream",
     "text": [
      "['HelloHelloHello']\n"
     ]
    }
   ],
   "source": [
    "print(np.char.multiply(['Hello'],3))"
   ]
  },
  {
   "cell_type": "code",
   "execution_count": 29,
   "id": "a59c76ae",
   "metadata": {},
   "outputs": [
    {
     "name": "stdout",
     "output_type": "stream",
     "text": [
      "-------Hello--------\n"
     ]
    }
   ],
   "source": [
    "print(np.char.center('Hello',20,fillchar = '-'))"
   ]
  },
  {
   "cell_type": "code",
   "execution_count": 32,
   "id": "48db57d1",
   "metadata": {},
   "outputs": [
    {
     "name": "stdout",
     "output_type": "stream",
     "text": [
      "Hello word\n",
      "Hello Word\n"
     ]
    }
   ],
   "source": [
    "print(np.char.capitalize('hello word'))\n",
    "print(np.char.title('hello word'))"
   ]
  },
  {
   "cell_type": "code",
   "execution_count": 35,
   "id": "ab9b50c7",
   "metadata": {},
   "outputs": [
    {
     "name": "stdout",
     "output_type": "stream",
     "text": [
      "['Hello', 'How are you?']\n"
     ]
    }
   ],
   "source": [
    "print(np.char.splitlines('Hello\\nHow are you?'))"
   ]
  },
  {
   "cell_type": "code",
   "execution_count": 38,
   "id": "919a8a74",
   "metadata": {},
   "outputs": [
    {
     "name": "stdout",
     "output_type": "stream",
     "text": [
      "['ello' 'ow' 'ave' 'ope']\n"
     ]
    }
   ],
   "source": [
    "print(np.char.strip(['hello', 'how', 'have', 'hope'], 'h'))"
   ]
  },
  {
   "cell_type": "code",
   "execution_count": 39,
   "id": "3188140c",
   "metadata": {},
   "outputs": [
    {
     "name": "stdout",
     "output_type": "stream",
     "text": [
      "['H:B:D' 'D-O-B']\n"
     ]
    }
   ],
   "source": [
    "print(np.char.join([':', '-'], ['HBD', 'DOB']))"
   ]
  },
  {
   "cell_type": "code",
   "execution_count": 41,
   "id": "2f78cdb7",
   "metadata": {},
   "outputs": [
    {
     "name": "stdout",
     "output_type": "stream",
     "text": [
      "hello world\n"
     ]
    }
   ],
   "source": [
    "print(np.char.replace('hello word', 'word', 'world'))"
   ]
  },
  {
   "cell_type": "code",
   "execution_count": 2,
   "id": "f01ad6f2",
   "metadata": {},
   "outputs": [],
   "source": [
    "#Array Manipulation\n",
    "\n",
    "#Array manipulation - changing shape"
   ]
  },
  {
   "cell_type": "code",
   "execution_count": 9,
   "id": "393cb616",
   "metadata": {},
   "outputs": [
    {
     "name": "stdout",
     "output_type": "stream",
     "text": [
      "Print the orignal array:\n",
      "[0 1 2 3 4 5 6 7 8]\n",
      "\n",
      "The modified array:\n",
      "[[0 1 2]\n",
      " [3 4 5]\n",
      " [6 7 8]]\n"
     ]
    }
   ],
   "source": [
    "a = np.arange(9)\n",
    "print('Print the orignal array:')\n",
    "print(a)\n",
    "print()\n",
    "\n",
    "b = a.reshape(3,3)\n",
    "print('The modified array:')\n",
    "print(b)"
   ]
  },
  {
   "cell_type": "code",
   "execution_count": 11,
   "id": "b2743144",
   "metadata": {},
   "outputs": [
    {
     "name": "stdout",
     "output_type": "stream",
     "text": [
      "[0 1 2 3 4 5 6 7 8]\n",
      "[0 3 6 1 4 7 2 5 8]\n"
     ]
    }
   ],
   "source": [
    "print(b.flatten())\n",
    "\n",
    "print(b.flatten(order='F'))"
   ]
  },
  {
   "cell_type": "code",
   "execution_count": 26,
   "id": "fef21c03",
   "metadata": {},
   "outputs": [
    {
     "name": "stdout",
     "output_type": "stream",
     "text": [
      "[[ 0  1  2  3]\n",
      " [ 4  5  6  7]\n",
      " [ 8  9 10 11]]\n"
     ]
    }
   ],
   "source": [
    "print(np.arange(12).reshape(3,4))"
   ]
  },
  {
   "cell_type": "code",
   "execution_count": 15,
   "id": "5ca41b91",
   "metadata": {},
   "outputs": [
    {
     "name": "stdout",
     "output_type": "stream",
     "text": [
      "[[0 3 6]\n",
      " [1 4 7]\n",
      " [2 5 8]]\n"
     ]
    }
   ],
   "source": [
    "print(np.transpose(b))"
   ]
  },
  {
   "cell_type": "code",
   "execution_count": 16,
   "id": "97d6fe3f",
   "metadata": {},
   "outputs": [
    {
     "name": "stdout",
     "output_type": "stream",
     "text": [
      "[[ 0  5 10]\n",
      " [ 1  6 11]\n",
      " [ 2  7 12]\n",
      " [ 3  8 13]\n",
      " [ 4  9 14]]\n"
     ]
    }
   ],
   "source": [
    "print(np.arange(15).reshape(3,5).transpose())"
   ]
  },
  {
   "cell_type": "code",
   "execution_count": 18,
   "id": "16169644",
   "metadata": {},
   "outputs": [
    {
     "name": "stdout",
     "output_type": "stream",
     "text": [
      "[[0 1 2 3]\n",
      " [4 5 6 7]]\n"
     ]
    }
   ],
   "source": [
    " d = np.arange(8).reshape(2,4)\n",
    "print(d)"
   ]
  },
  {
   "cell_type": "code",
   "execution_count": 20,
   "id": "69081b4e",
   "metadata": {},
   "outputs": [
    {
     "data": {
      "text/plain": [
       "array([[[0, 1],\n",
       "        [2, 3]],\n",
       "\n",
       "       [[4, 5],\n",
       "        [6, 7]]])"
      ]
     },
     "execution_count": 20,
     "metadata": {},
     "output_type": "execute_result"
    }
   ],
   "source": [
    "d.reshape(2,2,2)"
   ]
  },
  {
   "cell_type": "code",
   "execution_count": 29,
   "id": "1d41e6b4",
   "metadata": {},
   "outputs": [
    {
     "data": {
      "text/plain": [
       "array([[0, 1, 2, 3],\n",
       "       [4, 5, 6, 7]])"
      ]
     },
     "execution_count": 29,
     "metadata": {},
     "output_type": "execute_result"
    }
   ],
   "source": [
    "np.rollaxis(d,1,2)"
   ]
  },
  {
   "cell_type": "markdown",
   "id": "ddb68f64",
   "metadata": {},
   "source": [
    "#Numpy Arithmetic operations"
   ]
  },
  {
   "cell_type": "code",
   "execution_count": 30,
   "id": "5ea1346f",
   "metadata": {},
   "outputs": [
    {
     "data": {
      "text/plain": [
       "array([[0, 1, 2],\n",
       "       [3, 4, 5],\n",
       "       [6, 7, 8]])"
      ]
     },
     "execution_count": 30,
     "metadata": {},
     "output_type": "execute_result"
    }
   ],
   "source": [
    "e = np.arange(9).reshape(3,3)\n",
    "e"
   ]
  },
  {
   "cell_type": "code",
   "execution_count": 32,
   "id": "6748af05",
   "metadata": {},
   "outputs": [
    {
     "name": "stdout",
     "output_type": "stream",
     "text": [
      "[[10 12 14]\n",
      " [13 15 17]\n",
      " [16 18 20]]\n"
     ]
    }
   ],
   "source": [
    "f = np.array([10,11,12])\n",
    "\n",
    "g = np.add(e,f)\n",
    "print(g)"
   ]
  },
  {
   "cell_type": "code",
   "execution_count": 33,
   "id": "b2475fdb",
   "metadata": {},
   "outputs": [
    {
     "name": "stdout",
     "output_type": "stream",
     "text": [
      "[[-10 -10 -10]\n",
      " [ -7  -7  -7]\n",
      " [ -4  -4  -4]]\n"
     ]
    }
   ],
   "source": [
    "h = np.subtract(e,f)\n",
    "print(h)"
   ]
  },
  {
   "cell_type": "code",
   "execution_count": 34,
   "id": "3eaf264b",
   "metadata": {},
   "outputs": [
    {
     "name": "stdout",
     "output_type": "stream",
     "text": [
      "[[ 0 11 24]\n",
      " [30 44 60]\n",
      " [60 77 96]]\n"
     ]
    }
   ],
   "source": [
    "print(np.multiply(e,f))"
   ]
  },
  {
   "cell_type": "code",
   "execution_count": 36,
   "id": "863a1245",
   "metadata": {},
   "outputs": [
    {
     "name": "stdout",
     "output_type": "stream",
     "text": [
      "[[0.         0.09090909 0.16666667]\n",
      " [0.3        0.36363636 0.41666667]\n",
      " [0.6        0.63636364 0.66666667]]\n"
     ]
    }
   ],
   "source": [
    "print(np.divide(e,f))"
   ]
  },
  {
   "cell_type": "markdown",
   "id": "4c91cf5f",
   "metadata": {},
   "source": [
    "#SLICING"
   ]
  },
  {
   "cell_type": "code",
   "execution_count": 37,
   "id": "4b73acaa",
   "metadata": {},
   "outputs": [
    {
     "data": {
      "text/plain": [
       "array([ 0,  1,  2,  3,  4,  5,  6,  7,  8,  9, 10, 11, 12, 13, 14, 15, 16,\n",
       "       17, 18, 19])"
      ]
     },
     "execution_count": 37,
     "metadata": {},
     "output_type": "execute_result"
    }
   ],
   "source": [
    "a = np.arange(20)\n",
    "a"
   ]
  },
  {
   "cell_type": "code",
   "execution_count": 38,
   "id": "e7e7f3d3",
   "metadata": {},
   "outputs": [
    {
     "data": {
      "text/plain": [
       "array([ 4,  5,  6,  7,  8,  9, 10, 11, 12, 13, 14, 15, 16, 17, 18, 19])"
      ]
     },
     "execution_count": 38,
     "metadata": {},
     "output_type": "execute_result"
    }
   ],
   "source": [
    "a[4:]"
   ]
  },
  {
   "cell_type": "code",
   "execution_count": 39,
   "id": "f0a34786",
   "metadata": {},
   "outputs": [
    {
     "data": {
      "text/plain": [
       "array([0, 1, 2, 3])"
      ]
     },
     "execution_count": 39,
     "metadata": {},
     "output_type": "execute_result"
    }
   ],
   "source": [
    "a[:4]"
   ]
  },
  {
   "cell_type": "code",
   "execution_count": 41,
   "id": "9d35a981",
   "metadata": {},
   "outputs": [
    {
     "data": {
      "text/plain": [
       "array([2, 4, 6, 8])"
      ]
     },
     "execution_count": 41,
     "metadata": {},
     "output_type": "execute_result"
    }
   ],
   "source": [
    "s = slice(2,9,2)  #slice(start:stop(always -1):skip(always -1))\n",
    "a[s]"
   ]
  },
  {
   "cell_type": "code",
   "execution_count": 43,
   "id": "a74bbe08",
   "metadata": {},
   "outputs": [
    {
     "data": {
      "text/plain": [
       "array([ 2,  5,  8, 11])"
      ]
     },
     "execution_count": 43,
     "metadata": {},
     "output_type": "execute_result"
    }
   ],
   "source": [
    "s = slice(2,12,3)  #slice(start:stop:skip)\n",
    "a[s]"
   ]
  },
  {
   "cell_type": "code",
   "execution_count": 4,
   "id": "14910587",
   "metadata": {},
   "outputs": [
    {
     "data": {
      "text/plain": [
       "array([ 0,  5, 10, 15, 20, 25, 30, 35, 40])"
      ]
     },
     "execution_count": 4,
     "metadata": {},
     "output_type": "execute_result"
    }
   ],
   "source": [
    " #Iteration over Array\n",
    "\n",
    "j = np.arange(0, 45, 5)\n",
    "j"
   ]
  },
  {
   "cell_type": "code",
   "execution_count": 5,
   "id": "54e39ecd",
   "metadata": {},
   "outputs": [
    {
     "data": {
      "text/plain": [
       "array([[ 0,  5, 10],\n",
       "       [15, 20, 25],\n",
       "       [30, 35, 40]])"
      ]
     },
     "execution_count": 5,
     "metadata": {},
     "output_type": "execute_result"
    }
   ],
   "source": [
    "k = j.reshape(3,3)\n",
    "k"
   ]
  },
  {
   "cell_type": "code",
   "execution_count": 6,
   "id": "734a999a",
   "metadata": {},
   "outputs": [
    {
     "data": {
      "text/plain": [
       "<numpy.nditer at 0x1e03c035b70>"
      ]
     },
     "execution_count": 6,
     "metadata": {},
     "output_type": "execute_result"
    }
   ],
   "source": [
    "np.nditer(j)"
   ]
  },
  {
   "cell_type": "code",
   "execution_count": 48,
   "id": "cbb2791b",
   "metadata": {},
   "outputs": [
    {
     "name": "stdout",
     "output_type": "stream",
     "text": [
      "0\n",
      "5\n",
      "10\n",
      "15\n",
      "20\n",
      "25\n",
      "30\n",
      "35\n",
      "40\n"
     ]
    }
   ],
   "source": [
    "for x in np.nditer(j):\n",
    "    print(x)"
   ]
  },
  {
   "cell_type": "markdown",
   "id": "1c0bad32",
   "metadata": {},
   "source": [
    "#Iteration order (c-style and f-style)"
   ]
  },
  {
   "cell_type": "code",
   "execution_count": 64,
   "id": "54cd74e4",
   "metadata": {},
   "outputs": [
    {
     "name": "stdout",
     "output_type": "stream",
     "text": [
      "[[ 0  5 10]\n",
      " [15 20 25]\n",
      " [30 35 40]]\n",
      "0\n",
      "5\n",
      "10\n",
      "15\n",
      "20\n",
      "25\n",
      "30\n",
      "35\n",
      "40\n",
      "\n",
      "\n",
      "0\n",
      "15\n",
      "30\n",
      "5\n",
      "20\n",
      "35\n",
      "10\n",
      "25\n",
      "40\n"
     ]
    }
   ],
   "source": [
    "print(k)\n",
    "for x in np.nditer(k, order='C'):\n",
    "    print(x)\n",
    "\n",
    "print('\\n')\n",
    "\n",
    "for x in np.nditer(k, order='F'):\n",
    "    print(x)\n"
   ]
  },
  {
   "cell_type": "markdown",
   "id": "c06f04c0",
   "metadata": {},
   "source": [
    "Joining Arrays"
   ]
  },
  {
   "cell_type": "code",
   "execution_count": 67,
   "id": "a5af754b",
   "metadata": {},
   "outputs": [
    {
     "name": "stdout",
     "output_type": "stream",
     "text": [
      "My first array: \n",
      "[[1 2]\n",
      " [3 4]]\n",
      "My second array: \n",
      "[[5 6]\n",
      " [7 8]]\n",
      "\n",
      "\n",
      "Joining the two arrays along the axis 0:\n",
      "[[1 2]\n",
      " [3 4]\n",
      " [5 6]\n",
      " [7 8]]\n"
     ]
    }
   ],
   "source": [
    "l = np.array([[1,2], [3,4]])\n",
    "print('My first array: ')\n",
    "print(l)\n",
    "m = np.array([[5,6], [7,8]])\n",
    "print('My second array: ')\n",
    "print(m)\n",
    "print('\\n')\n",
    "print('Joining the two arrays along the axis 0:')\n",
    "print(np.concatenate((l,m), axis=0))"
   ]
  },
  {
   "cell_type": "code",
   "execution_count": 68,
   "id": "11297d21",
   "metadata": {},
   "outputs": [
    {
     "name": "stdout",
     "output_type": "stream",
     "text": [
      "Joining the two arrays along the axis 1:\n",
      "[[1 2 5 6]\n",
      " [3 4 7 8]]\n"
     ]
    }
   ],
   "source": [
    "print('Joining the two arrays along the axis 1:')\n",
    "print(np.concatenate((l,m), axis =1)) #The axis=1 concatenate the first row in each rows together and likewise for second row"
   ]
  },
  {
   "cell_type": "markdown",
   "id": "8466d891",
   "metadata": {},
   "source": [
    "#Splitting array"
   ]
  },
  {
   "cell_type": "code",
   "execution_count": 71,
   "id": "8e34cfc4",
   "metadata": {},
   "outputs": [
    {
     "name": "stdout",
     "output_type": "stream",
     "text": [
      "[0 1 2 3 4 5 6 7 8]\n"
     ]
    },
    {
     "data": {
      "text/plain": [
       "[array([0, 1, 2]), array([3, 4, 5]), array([6, 7, 8])]"
      ]
     },
     "execution_count": 71,
     "metadata": {},
     "output_type": "execute_result"
    }
   ],
   "source": [
    "n = np.arange(9)\n",
    "print(n)\n",
    "\n",
    "np.split(n,3)"
   ]
  },
  {
   "cell_type": "code",
   "execution_count": 72,
   "id": "13d3b290",
   "metadata": {},
   "outputs": [
    {
     "data": {
      "text/plain": [
       "[array([0, 1, 2, 3]), array([4, 5, 6]), array([7, 8])]"
      ]
     },
     "execution_count": 72,
     "metadata": {},
     "output_type": "execute_result"
    }
   ],
   "source": [
    "np.split(n,[4,7])"
   ]
  },
  {
   "cell_type": "code",
   "execution_count": 73,
   "id": "708ef0ae",
   "metadata": {},
   "outputs": [
    {
     "data": {
      "text/plain": [
       "[array([0, 1, 2, 3]), array([4]), array([5, 6, 7, 8])]"
      ]
     },
     "execution_count": 73,
     "metadata": {},
     "output_type": "execute_result"
    }
   ],
   "source": [
    "np.split(n,[4,5])"
   ]
  },
  {
   "cell_type": "code",
   "execution_count": 75,
   "id": "b3ded7bf",
   "metadata": {},
   "outputs": [
    {
     "data": {
      "text/plain": [
       "[array([0, 1, 2, 3]), array([4]), array([5, 6]), array([7, 8])]"
      ]
     },
     "execution_count": 75,
     "metadata": {},
     "output_type": "execute_result"
    }
   ],
   "source": [
    "np.split(n,[4,5,7])"
   ]
  },
  {
   "cell_type": "code",
   "execution_count": null,
   "id": "0d5ec27d",
   "metadata": {},
   "outputs": [],
   "source": [
    "#Splitting an array"
   ]
  },
  {
   "cell_type": "code",
   "execution_count": 81,
   "id": "09e8f91e",
   "metadata": {},
   "outputs": [
    {
     "name": "stdout",
     "output_type": "stream",
     "text": [
      "[[1 2 3]\n",
      " [4 5 6]]\n",
      "\n",
      "\n",
      "[[1 2]\n",
      " [3 4]\n",
      " [5 6]]\n",
      "(3, 2)\n"
     ]
    }
   ],
   "source": [
    "p = np.array([[1,2,3], [4,5,6]])\n",
    "print(p)\n",
    "\n",
    "p.shape\n",
    "print('\\n')\n",
    "q = np.resize(p, (3,2))\n",
    "print(q)\n",
    "print(q.shape)"
   ]
  },
  {
   "cell_type": "code",
   "execution_count": 82,
   "id": "69875d6d",
   "metadata": {},
   "outputs": [
    {
     "data": {
      "image/png": "[encoded data removed]",
      "text/plain": [
       "<Figure size 432x288 with 1 Axes>"
      ]
     },
     "metadata": {
      "needs_background": "light"
     },
     "output_type": "display_data"
    }
   ],
   "source": [
    "#Histrogram\n",
    "\n",
    "from matplotlib import pyplot as plt\n",
    "r = np.array([20, 87, 4, 40, 53, 74, 56, 51, 11, 20, 40, 15, 79, 25, 27])\n",
    "plt.hist(r, bins = [0,20,40,60,80,100])\n",
    "plt.title('Histogram')\n",
    "plt.show()"
   ]
  },
  {
   "cell_type": "code",
   "execution_count": 85,
   "id": "186604b3",
   "metadata": {},
   "outputs": [
    {
     "data": {
      "image/png": "[encoded data removed]",
      "text/plain": [
       "<Figure size 432x288 with 1 Axes>"
      ]
     },
     "metadata": {
      "needs_background": "light"
     },
     "output_type": "display_data"
    }
   ],
   "source": [
    "plt.hist(r, bins = [0, 10, 20,30,40,50, 60,70, 80,90,100])\n",
    "plt.title('Histogram')\n",
    "plt.show()"
   ]
  },
  {
   "cell_type": "code",
   "execution_count": 88,
   "id": "5f8a9ddd",
   "metadata": {},
   "outputs": [
    {
     "name": "stdout",
     "output_type": "stream",
     "text": [
      "24\n",
      "\n",
      "\n",
      "[ 6  8 10]\n",
      "\n",
      "\n",
      "[ 6 18]\n"
     ]
    }
   ],
   "source": [
    "#Other useful functions in numpy\n",
    "\n",
    "\n",
    "s = np.array([[1,2,3],[5,6,7]])\n",
    "print(s.sum())\n",
    "print('\\n')\n",
    "\n",
    "s = np.array([[1,2,3],[5,6,7]])\n",
    "print(s.sum(axis=0))\n",
    "print('\\n')\n",
    "\n",
    "s = np.array([[1,2,3],[5,6,7]])\n",
    "print(s.sum(axis=1))"
   ]
  },
  {
   "cell_type": "code",
   "execution_count": 90,
   "id": "44c3e2dc",
   "metadata": {},
   "outputs": [
    {
     "name": "stdout",
     "output_type": "stream",
     "text": [
      "[[1.         1.41421356 1.73205081]\n",
      " [2.23606798 2.44948974 3.        ]]\n",
      "\n",
      "\n",
      "2.6874192494328497\n"
     ]
    }
   ],
   "source": [
    "s = np.array([[1,2,3],[5,6,9]])\n",
    "print(np.sqrt(s))\n",
    "print('\\n')\n",
    "print(np.std(s))"
   ]
  },
  {
   "cell_type": "code",
   "execution_count": 92,
   "id": "9c663e96",
   "metadata": {},
   "outputs": [
    {
     "name": "stdout",
     "output_type": "stream",
     "text": [
      "[1 2 3 3 5 6]\n"
     ]
    }
   ],
   "source": [
    "t = np.array([[1,2,3],[3,5,6]])\n",
    "print(np.ravel(t))"
   ]
  },
  {
   "cell_type": "code",
   "execution_count": 98,
   "id": "684ad403",
   "metadata": {},
   "outputs": [
    {
     "name": "stdout",
     "output_type": "stream",
     "text": [
      "[0.  0.1 0.2 0.3 0.4 0.5 0.6 0.7 0.8 0.9 1.  1.1 1.2 1.3 1.4 1.5 1.6 1.7\n",
      " 1.8 1.9 2.  2.1 2.2 2.3 2.4 2.5 2.6 2.7 2.8 2.9 3.  3.1 3.2 3.3 3.4 3.5\n",
      " 3.6 3.7 3.8 3.9 4.  4.1 4.2 4.3 4.4 4.5 4.6 4.7 4.8 4.9 5.  5.1 5.2 5.3\n",
      " 5.4 5.5 5.6 5.7 5.8 5.9 6.  6.1 6.2 6.3 6.4 6.5 6.6 6.7 6.8 6.9 7.  7.1\n",
      " 7.2 7.3 7.4 7.5 7.6 7.7 7.8 7.9 8.  8.1 8.2 8.3 8.4 8.5 8.6 8.7 8.8 8.9\n",
      " 9.  9.1 9.2 9.3 9.4]\n",
      "\n",
      "\n",
      "[ 0.          0.09983342  0.19866933  0.29552021  0.38941834  0.47942554\n",
      "  0.56464247  0.64421769  0.71735609  0.78332691  0.84147098  0.89120736\n",
      "  0.93203909  0.96355819  0.98544973  0.99749499  0.9995736   0.99166481\n",
      "  0.97384763  0.94630009  0.90929743  0.86320937  0.8084964   0.74570521\n",
      "  0.67546318  0.59847214  0.51550137  0.42737988  0.33498815  0.23924933\n",
      "  0.14112001  0.04158066 -0.05837414 -0.15774569 -0.2555411  -0.35078323\n",
      " -0.44252044 -0.52983614 -0.61185789 -0.68776616 -0.7568025  -0.81827711\n",
      " -0.87157577 -0.91616594 -0.95160207 -0.97753012 -0.993691   -0.99992326\n",
      " -0.99616461 -0.98245261 -0.95892427 -0.92581468 -0.88345466 -0.83226744\n",
      " -0.77276449 -0.70554033 -0.63126664 -0.55068554 -0.46460218 -0.37387666\n",
      " -0.2794155  -0.1821625  -0.0830894   0.0168139   0.1165492   0.21511999\n",
      "  0.31154136  0.40484992  0.49411335  0.57843976  0.6569866   0.72896904\n",
      "  0.79366786  0.85043662  0.8987081   0.93799998  0.96791967  0.98816823\n",
      "  0.99854335  0.99894134  0.98935825  0.96988981  0.94073056  0.90217183\n",
      "  0.85459891  0.79848711  0.7343971   0.66296923  0.58491719  0.50102086\n",
      "  0.41211849  0.31909836  0.22288991  0.12445442  0.02477543]\n"
     ]
    }
   ],
   "source": [
    "#Practice Example\n",
    "\n",
    "x = np.arange(0,3*np.pi,0.1)\n",
    "print(x)\n",
    "print('\\n')\n",
    "y = np.sin(x)\n",
    "print(y)"
   ]
  },
  {
   "cell_type": "code",
   "execution_count": 100,
   "id": "3419efb8",
   "metadata": {},
   "outputs": [
    {
     "data": {
      "text/plain": [
       "<function matplotlib.pyplot.show(close=None, block=None)>"
      ]
     },
     "execution_count": 100,
     "metadata": {},
     "output_type": "execute_result"
    },
    {
     "data": {
      "image/png": "[encoded data removed]",
      "text/plain": [
       "<Figure size 432x288 with 1 Axes>"
      ]
     },
     "metadata": {
      "needs_background": "light"
     },
     "output_type": "display_data"
    }
   ],
   "source": [
    "plt.plot(x,y)\n",
    "plt.show"
   ]
  },
  {
   "cell_type": "code",
   "execution_count": 124,
   "id": "b7e79b8f",
   "metadata": {},
   "outputs": [
    {
     "data": {
      "text/plain": [
       "array([[0, 0, 0, 0, 0, 0],\n",
       "       [1, 0, 1, 0, 1, 0],\n",
       "       [0, 0, 0, 0, 0, 0],\n",
       "       [1, 0, 1, 0, 1, 0],\n",
       "       [0, 0, 0, 0, 0, 0],\n",
       "       [1, 0, 1, 0, 1, 0]])"
      ]
     },
     "execution_count": 124,
     "metadata": {},
     "output_type": "execute_result"
    }
   ],
   "source": [
    "#Create a gby6 two-dimensional array and let 1 and 0 be placed diagonally \n",
    "\n",
    "v = np.zeros((6,6), dtype = int)\n",
    "v[1::2,0::2] = 1\n",
    "v "
   ]
  },
  {
   "cell_type": "code",
   "execution_count": 143,
   "id": "90139273",
   "metadata": {},
   "outputs": [
    {
     "data": {
      "text/plain": [
       "array([[1, 0, 1, 0, 1, 0],\n",
       "       [0, 1, 0, 1, 0, 1],\n",
       "       [1, 0, 1, 0, 1, 0],\n",
       "       [0, 1, 0, 1, 0, 1],\n",
       "       [1, 0, 1, 0, 1, 0],\n",
       "       [0, 1, 0, 1, 0, 1]])"
      ]
     },
     "execution_count": 143,
     "metadata": {},
     "output_type": "execute_result"
    }
   ],
   "source": [
    "\n",
    "v = np.zeros((6,6), dtype = int)\n",
    "#v[1::2,::2] = 1\n",
    "v [1::2,1::2] = 1 #first 1::2 working with which implies start from 1 row and skip row 2. The second 1::2 works \n",
    "#with the elements in the rows which implies start with second element and skip next element\n",
    "v[::2,::2] = 1\n",
    "v"
   ]
  },
  {
   "cell_type": "code",
   "execution_count": 138,
   "id": "e0caaf07",
   "metadata": {},
   "outputs": [
    {
     "data": {
      "text/plain": [
       "array([[1, 0, 1, 0, 1, 0],\n",
       "       [0, 0, 0, 0, 0, 0],\n",
       "       [1, 0, 1, 0, 1, 0],\n",
       "       [0, 0, 0, 0, 0, 0],\n",
       "       [1, 0, 1, 0, 1, 0],\n",
       "       [0, 0, 0, 0, 0, 0]])"
      ]
     },
     "execution_count": 138,
     "metadata": {},
     "output_type": "execute_result"
    }
   ],
   "source": [
    "v = np.zeros((6,6), dtype = int)\n",
    "v[::2,::2] = 1\n",
    "v"
   ]
  },
  {
   "cell_type": "code",
   "execution_count": 203,
   "id": "00fc7540",
   "metadata": {},
   "outputs": [
    {
     "data": {
      "text/plain": [
       "array([[0.76973371, 0.04230876, 0.79161759, 0.85118217, 0.13274237,\n",
       "        0.52520279, 0.82880675, 0.99777539, 0.22237417, 0.78694152],\n",
       "       [0.53370456, 0.76009647, 0.14441076, 0.60061043, 0.81515211,\n",
       "        0.63150652, 0.72088482, 0.93843494, 0.57640191, 0.59264066],\n",
       "       [0.87109392, 0.5537188 , 0.21700313, 0.85652475, 0.37784885,\n",
       "        0.62903064, 0.14763068, 0.05499822, 0.41710055, 0.20431606],\n",
       "       [0.3376817 , 0.20062731, 0.71308512, 0.61810432, 0.49679918,\n",
       "        0.19110907, 0.95365175, 0.87849896, 0.42280848, 0.09037586],\n",
       "       [0.22307472, 0.8374257 , 0.47551382, 0.88494443, 0.82627376,\n",
       "        0.3242923 , 0.42825826, 0.96523769, 0.87399898, 0.78569749],\n",
       "       [0.37629973, 0.59735138, 0.24542685, 0.92315872, 0.83649881,\n",
       "        0.33055869, 0.05356956, 0.77449206, 0.29089962, 0.68016263],\n",
       "       [0.70153916, 0.97946191, 0.94397   , 0.91475968, 0.36113986,\n",
       "        0.41589024, 0.84351592, 0.90300107, 0.42249771, 0.49383197],\n",
       "       [0.63542292, 0.89617685, 0.23121391, 0.62594885, 0.3722065 ,\n",
       "        0.63940987, 0.07144013, 0.09218605, 0.79781066, 0.20337171],\n",
       "       [0.84846605, 0.952688  , 0.99181314, 0.77686619, 0.5951144 ,\n",
       "        0.9854346 , 0.96723701, 0.2988103 , 0.70248665, 0.0103912 ],\n",
       "       [0.55353015, 0.49615459, 0.91989672, 0.84360489, 0.19294461,\n",
       "        0.95818402, 0.44802001, 0.43309777, 0.02558172, 0.85391111]])"
      ]
     },
     "execution_count": 203,
     "metadata": {},
     "output_type": "execute_result"
    }
   ],
   "source": [
    "u = np.random.rand(10,10)\n",
    "u"
   ]
  },
  {
   "cell_type": "code",
   "execution_count": 194,
   "id": "0eab4c8a",
   "metadata": {},
   "outputs": [
    {
     "data": {
      "text/plain": [
       "array([[0.8085232 , 0.17857118, 0.9545656 ,        nan, 0.98845365,\n",
       "        0.92510616, 0.26692108, 0.36165895, 0.92500119, 0.67899511],\n",
       "       [0.3909817 , 0.42286394, 0.60785638, 0.26942246, 0.05179351,\n",
       "        0.80038979, 0.80975434, 0.73626531, 0.64913496, 0.09529198],\n",
       "       [0.55376938, 0.33933832, 0.79322489, 0.85504902, 0.72861516,\n",
       "        0.58712328, 0.79390495, 0.00554964, 0.62531203, 0.32002591],\n",
       "       [0.70516318, 0.13247749, 0.10788425, 0.52410638, 0.56204637,\n",
       "        0.86746521, 0.89626501, 0.14300032, 0.58746512, 0.99351983],\n",
       "       [0.5614015 , 0.6661706 , 0.55300284, 0.02576831, 0.82613419,\n",
       "        0.31366993, 0.45341504,        nan, 0.87384738, 0.7718342 ],\n",
       "       [0.44761535, 0.43578595, 0.45287895, 0.46706493, 0.95330342,\n",
       "        0.64947328, 0.1588812 , 0.20393785, 0.17117028, 0.62655886],\n",
       "       [0.57962207, 0.58417291, 0.98359404, 0.78821917, 0.34392339,\n",
       "        0.88933556, 0.4465253 , 0.91464575, 0.62793796,        nan],\n",
       "       [0.18605598, 0.96106403, 0.94146444, 0.60545933, 0.30062734,\n",
       "        0.43926252, 0.72364297, 0.56951782, 0.58913686, 0.3381113 ],\n",
       "       [0.73726339, 0.09212046, 0.89546185, 0.61558574, 0.51364785,\n",
       "        0.77806632, 0.53147381, 0.31916456, 0.09390967, 0.94735279],\n",
       "       [0.41278175, 0.95669585, 0.80531786, 0.66040546, 0.67788528,\n",
       "        0.72118598, 0.81670044, 0.25459712, 0.91577882, 0.54351218]])"
      ]
     },
     "execution_count": 194,
     "metadata": {},
     "output_type": "execute_result"
    }
   ],
   "source": [
    "#Find the total number and locations of missing values in the array\n",
    "\n",
    "u = np.random.rand(10,10)\n",
    "u[np.random.randint(10,size =5), np.random.randint(10, size=5)] = np.nan\n",
    "u"
   ]
  },
  {
   "cell_type": "code",
   "execution_count": 195,
   "id": "093dba87",
   "metadata": {},
   "outputs": [
    {
     "name": "stdout",
     "output_type": "stream",
     "text": [
      "Total number of missing values: \n",
      " 3\n"
     ]
    }
   ],
   "source": [
    "#to print total number of missing values in an array\n",
    "print('Total number of missing values: \\n', np.isnan(u).sum())\n"
   ]
  },
  {
   "cell_type": "code",
   "execution_count": 196,
   "id": "0d97015b",
   "metadata": {},
   "outputs": [
    {
     "name": "stdout",
     "output_type": "stream",
     "text": [
      "Indexes of missing values: \n",
      " [[0 3]\n",
      " [4 7]\n",
      " [6 9]]\n"
     ]
    }
   ],
   "source": [
    "#to print location of missing values in an array\n",
    "\n",
    "print('Indexes of missing values: \\n', np.argwhere(np.isnan(u)))"
   ]
  },
  {
   "cell_type": "code",
   "execution_count": 201,
   "id": "3359a585",
   "metadata": {},
   "outputs": [],
   "source": [
    "u[np.where(np.isnan(u))]= 1"
   ]
  },
  {
   "cell_type": "code",
   "execution_count": 151,
   "id": "2e25854a",
   "metadata": {},
   "outputs": [
    {
     "data": {
      "text/plain": [
       "(array([0, 2, 3, 3, 8], dtype=int64), array([7, 2, 4, 7, 7], dtype=int64))"
      ]
     },
     "execution_count": 151,
     "metadata": {},
     "output_type": "execute_result"
    }
   ],
   "source": [
    "inds = np.where(np.isnan(u))\n",
    "inds"
   ]
  },
  {
   "cell_type": "code",
   "execution_count": 156,
   "id": "7116419e",
   "metadata": {},
   "outputs": [],
   "source": [
    "u[inds] = 0"
   ]
  },
  {
   "cell_type": "code",
   "execution_count": 202,
   "id": "110c05e7",
   "metadata": {},
   "outputs": [
    {
     "data": {
      "text/plain": [
       "array([[0.8085232 , 0.17857118, 0.9545656 , 1.        , 0.98845365,\n",
       "        0.92510616, 0.26692108, 0.36165895, 0.92500119, 0.67899511],\n",
       "       [0.3909817 , 0.42286394, 0.60785638, 0.26942246, 0.05179351,\n",
       "        0.80038979, 0.80975434, 0.73626531, 0.64913496, 0.09529198],\n",
       "       [0.55376938, 0.33933832, 0.79322489, 0.85504902, 0.72861516,\n",
       "        0.58712328, 0.79390495, 0.00554964, 0.62531203, 0.32002591],\n",
       "       [0.70516318, 0.13247749, 0.10788425, 0.52410638, 0.56204637,\n",
       "        0.86746521, 0.89626501, 0.14300032, 0.58746512, 0.99351983],\n",
       "       [0.5614015 , 0.6661706 , 0.55300284, 0.02576831, 0.82613419,\n",
       "        0.31366993, 0.45341504, 1.        , 0.87384738, 0.7718342 ],\n",
       "       [0.44761535, 0.43578595, 0.45287895, 0.46706493, 0.95330342,\n",
       "        0.64947328, 0.1588812 , 0.20393785, 0.17117028, 0.62655886],\n",
       "       [0.57962207, 0.58417291, 0.98359404, 0.78821917, 0.34392339,\n",
       "        0.88933556, 0.4465253 , 0.91464575, 0.62793796, 1.        ],\n",
       "       [0.18605598, 0.96106403, 0.94146444, 0.60545933, 0.30062734,\n",
       "        0.43926252, 0.72364297, 0.56951782, 0.58913686, 0.3381113 ],\n",
       "       [0.73726339, 0.09212046, 0.89546185, 0.61558574, 0.51364785,\n",
       "        0.77806632, 0.53147381, 0.31916456, 0.09390967, 0.94735279],\n",
       "       [0.41278175, 0.95669585, 0.80531786, 0.66040546, 0.67788528,\n",
       "        0.72118598, 0.81670044, 0.25459712, 0.91577882, 0.54351218]])"
      ]
     },
     "execution_count": 202,
     "metadata": {},
     "output_type": "execute_result"
    }
   ],
   "source": [
    "u"
   ]
  },
  {
   "cell_type": "code",
   "execution_count": 162,
   "id": "ac9f84fa",
   "metadata": {},
   "outputs": [
    {
     "data": {
      "text/plain": [
       "array([[0.59344175, 0.87782014, 0.62966765, 0.86163232, 0.42214307,\n",
       "        0.02242418, 0.26376692, 0.75601977, 0.56257838, 0.9350841 ],\n",
       "       [0.56969053, 0.24156955, 0.5493388 , 0.        , 0.6007433 ,\n",
       "        0.29722043, 0.81916017, 0.26061669, 0.        , 0.60130568],\n",
       "       [0.31777367, 0.50794479, 0.955681  , 0.31799008, 0.43242935,\n",
       "        0.50154814, 0.78117052, 0.83713044, 0.47363707, 0.36017761],\n",
       "       [0.61622897, 0.5507206 , 0.61926866, 0.76006834, 0.18556982,\n",
       "        0.57078735, 0.33359406, 0.60099912, 0.89604655, 0.6117957 ],\n",
       "       [0.68533853, 0.83332477, 0.90619405, 0.84735255, 0.        ,\n",
       "        0.97500774, 0.69610832, 0.47458333, 0.0677023 , 0.21320227],\n",
       "       [0.50658139, 0.43830865, 0.        , 0.20806534, 0.755417  ,\n",
       "        0.00851174, 0.63715229, 0.13403499, 0.02014994, 0.79414665],\n",
       "       [0.12949978, 0.50633564, 0.47036253, 0.07687786, 0.33012243,\n",
       "        0.14335884, 0.4204357 , 0.96685727, 0.94921043, 0.28982037],\n",
       "       [0.52453177, 0.89682486, 0.29778649, 0.93414718, 0.91069684,\n",
       "        0.86122564, 0.88864009, 0.0128651 , 0.32756882, 0.73735317],\n",
       "       [0.60037738, 0.88635467, 0.04429724, 0.05533401, 0.48073212,\n",
       "        0.62049116, 0.23340812, 0.53606995, 0.67746205, 0.74117623],\n",
       "       [0.2706329 , 0.90714061, 0.78395518, 0.33555267, 0.29028118,\n",
       "        0.73769752, 0.93540242, 0.        , 0.4015628 , 0.81674962]])"
      ]
     },
     "execution_count": 162,
     "metadata": {},
     "output_type": "execute_result"
    }
   ],
   "source": [
    "w = np.isnan(u)\n",
    "u[w] = 0\n",
    "u"
   ]
  },
  {
   "cell_type": "code",
   "execution_count": 176,
   "id": "783a1d3d",
   "metadata": {},
   "outputs": [
    {
     "data": {
      "text/plain": [
       "array([0., 1., 2., 3., 4., 5., 6., 7., 8., 9.])"
      ]
     },
     "execution_count": 176,
     "metadata": {},
     "output_type": "execute_result"
    }
   ],
   "source": [
    "t = np.arange(10, dtype=np.float64)\n",
    "t"
   ]
  },
  {
   "cell_type": "code",
   "execution_count": 2,
   "id": "91144165",
   "metadata": {},
   "outputs": [
    {
     "data": {
      "text/plain": [
       "'C:\\\\Users\\\\user\\\\Desktop\\\\PYTHON FOR DATA SCIENCE\\\\NUMPY TUTORIAL.ipynb'"
      ]
     },
     "execution_count": 2,
     "metadata": {},
     "output_type": "execute_result"
    }
   ],
   "source": [
    "s.move(\"C:\\\\Users\\\\user\\\\Desktop\\\\SQL\\\\NUMPY TUTORIAL.ipynb\", \"C:\\\\Users\\\\user\\\\Desktop\\\\PYTHON FOR DATA SCIENCE\")"
   ]
  },
  {
   "cell_type": "code",
   "execution_count": null,
   "id": "fc4f6df4",
   "metadata": {},
   "outputs": [],
   "source": []
  }
 ],
 "metadata": {
  "kernelspec": {
   "display_name": "Python 3 (ipykernel)",
   "language": "python",
   "name": "python3"
  },
  "language_info": {
   "codemirror_mode": {
    "name": "ipython",
    "version": 3
   },
   "file_extension": ".py",
   "mimetype": "text/x-python",
   "name": "python",
   "nbconvert_exporter": "python",
   "pygments_lexer": "ipython3",
   "version": "3.9.12"
  }
 },
 "nbformat": 4,
 "nbformat_minor": 5
}
